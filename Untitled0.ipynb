{
  "nbformat": 4,
  "nbformat_minor": 0,
  "metadata": {
    "colab": {
      "provenance": []
    },
    "kernelspec": {
      "name": "python3",
      "display_name": "Python 3"
    },
    "language_info": {
      "name": "python"
    }
  },
  "cells": [
    {
      "cell_type": "code",
      "source": [
        "import numpy as np\n",
        "import matplotlib.pyplot as plt\n",
        "\n",
        "def initialize_fireflies(num_fireflies, num_cities):\n",
        "    fireflies = np.zeros((num_fireflies, num_cities), dtype=int)\n",
        "    \n",
        "    for i in range(num_fireflies):\n",
        "        fireflies[i] = np.random.permutation(num_cities)\n",
        "    \n",
        "    return fireflies\n",
        "\n",
        "def calculate_distance(city_coords, firefly):\n",
        "    num_cities = len(firefly)\n",
        "    distance = 0\n",
        "    \n",
        "    for i in range(num_cities - 1):\n",
        "        curr_city = firefly[i]\n",
        "        next_city = firefly[i+1]\n",
        "        distance += np.linalg.norm(city_coords[curr_city] - city_coords[next_city])\n",
        "    \n",
        "    return distance\n",
        "\n",
        "def evaluate_fitness(fireflies, city_coords):\n",
        "    num_fireflies = len(fireflies)\n",
        "    fitness = np.zeros(num_fireflies)\n",
        "    \n",
        "    for i in range(num_fireflies):\n",
        "        fitness[i] = 1 / calculate_distance(city_coords, fireflies[i])\n",
        "    \n",
        "    return fitness\n",
        "\n",
        "def calculate_attraction(fitness1, fitness2, distance, beta):\n",
        "    return (fitness1 * fitness2) / (1 + beta * distance)\n",
        "\n",
        "def move_fireflies(fireflies, attractiveness, alpha, search_space):\n",
        "    num_fireflies, num_cities = fireflies.shape\n",
        "    new_fireflies = np.copy(fireflies)\n",
        "    \n",
        "    max_attraction = np.max(attractiveness, axis=1)\n",
        "    \n",
        "    for i in range(num_fireflies):\n",
        "        for j in range(num_fireflies):\n",
        "            if attractiveness[i, j] > max_attraction[i]:\n",
        "                movement = alpha * (np.random.uniform(0, 1, num_cities) - 0.5)\n",
        "                new_fireflies[i] += movement\n",
        "    \n",
        "    return new_fireflies\n",
        "\n",
        "def firefly_algorithm(num_fireflies, num_cities, num_iterations, city_coords, alpha, beta, search_space):\n",
        "    fireflies = initialize_fireflies(num_fireflies, num_cities)\n",
        "    best_distance = float('inf')\n",
        "    best_route = None\n",
        "    \n",
        "    for _ in range(num_iterations):\n",
        "        fitness = evaluate_fitness(fireflies, city_coords)\n",
        "        attractiveness = np.zeros((num_fireflies, num_fireflies))\n",
        "        \n",
        "        for i in range(num_fireflies):\n",
        "            for j in range(num_fireflies):\n",
        "                if fitness[i] < fitness[j]:\n",
        "                    distance = calculate_distance(city_coords, fireflies[i]) / calculate_distance(city_coords, fireflies[j])\n",
        "                    attractiveness[i, j] = calculate_attraction(fitness[i], fitness[j], distance, beta)\n",
        "        \n",
        "        fireflies = move_fireflies(fireflies, attractiveness, alpha, search_space)\n",
        "        \n",
        "        current_best_index = np.argmax(fitness)\n",
        "        current_best_distance = calculate_distance(city_coords, fireflies[current_best_index])\n",
        "        if current_best_distance < best_distance:\n",
        "            best_distance = current_best_distance\n",
        "            best_route = fireflies[current_best_index]\n",
        "    \n",
        "    return best_route\n",
        "\n",
        "# Example usage\n",
        "num_cities = 20\n",
        "num_fireflies = 50\n",
        "num_iterations = 100\n",
        "alpha = 0.2  # Firefly movement scaling factor\n",
        "beta = 1  # Attraction scaling factor\n",
        "search_space = [[80, 100], [90, 100]]  # Search space for city coordinates\n",
        "\n",
        "# Generate random city coordinates\n",
        "city_coords = np.random.uniform(search_space[0], search_space[1], size=(num_cities, 2))\n",
        "\n",
        "# Apply the Firefly Algorithm to solve the TSP\n",
        "best_route = firefly_algorithm(num_fireflies, num_cities, num_iterations, city_coords, alpha, beta, search_space)\n",
        "\n",
        "# Calculate the total distance of the best route\n",
        "best_distance = calculate_distance(city_coords, best_route)\n",
        "\n",
        "# Print the best route and its total distance\n",
        "print(\"Best Route:\", best_route)\n",
        "print(\"Total Distance:\", best_distance)\n",
        "\n",
        "# Plotting the best route\n",
        "x = city_coords[:, 0]\n",
        "y = city_coords[:, 1]\n",
        "plt.figure(figsize=(8, 6))\n",
        "plt.plot(x[best_route], y[best_route], 'b-')\n",
        "plt.scatter(x, y, color='red')\n",
        "plt.title(\"TSP Solution - Firefly Algorithm\")\n",
        "plt.xlabel(\"X-coordinate\")\n",
        "plt.ylabel(\"Y-coordinate\")\n",
        "plt.grid(True)\n",
        "plt.show()\n"
      ],
      "metadata": {
        "colab": {
          "base_uri": "https://localhost:8080/",
          "height": 599
        },
        "id": "dkkPajP44gvA",
        "outputId": "fe4988ed-419d-4d93-cc94-b3ecbf8f94ba"
      },
      "execution_count": 36,
      "outputs": [
        {
          "output_type": "stream",
          "name": "stdout",
          "text": [
            "Best Route: [19 18 16  8 14  0  2  9  3 11 10 15 13  5  7  6 12 17  4  1]\n",
            "Total Distance: 25.82569440475723\n"
          ]
        },
        {
          "output_type": "display_data",
          "data": {
            "text/plain": [
              "<Figure size 800x600 with 1 Axes>"
            ],
            "image/png": "[encoded data removed]"
          },
          "metadata": {}
        }
      ]
    },
    {
      "cell_type": "code",
      "source": [],
      "metadata": {
        "id": "geGdlAl95suF"
      },
      "execution_count": null,
      "outputs": []
    }
  ]
}